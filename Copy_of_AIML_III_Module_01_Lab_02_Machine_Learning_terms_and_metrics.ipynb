{
  "cells": [
    {
      "cell_type": "markdown",
      "metadata": {
        "id": "view-in-github",
        "colab_type": "text"
      },
      "source": [
        "<a href=\"https://colab.research.google.com/github/2004Likhitha/AIML/blob/main/Copy_of_AIML_III_Module_01_Lab_02_Machine_Learning_terms_and_metrics.ipynb\" target=\"_parent\"><img src=\"https://colab.research.google.com/assets/colab-badge.svg\" alt=\"Open In Colab\"/></a>"
      ]
    },
    {
      "cell_type": "markdown",
      "metadata": {
        "id": "3Eu9VZbF01eq"
      },
      "source": [
        "# Machine Learning terms and metrics\n",
        "\n",
        "Module 1, Lab 2\n",
        "\n",
        "In this lab, we will show a part of the ML pipeline by using the California Housing dataset. There are 20640 samples, each with 8 attributes like income of the block, age of the houses per district etc. The task is to predict the cost of the houses per district. We will use the scikit-learn library to load the data and perform some basic data preprocessing and model training. We will also show how to evaluate the model using some common metrics, split the data into training and testing sets, and use cross-validation to get a better estimate of the model's performance."
      ]
    },
    {
      "cell_type": "code",
      "execution_count": 8,
      "metadata": {
        "id": "8qBvyEem0vLi"
      },
      "outputs": [],
      "source": [
        "import numpy as np\n",
        "from sklearn import datasets\n",
        "import matplotlib.pyplot as plt\n",
        "\n",
        "rng = np.random.default_rng(seed=42)"
      ]
    },
    {
      "cell_type": "code",
      "execution_count": 9,
      "metadata": {
        "colab": {
          "base_uri": "https://localhost:8080/"
        },
        "id": "8LpqjN991GGJ",
        "outputId": "aaf254ce-852a-4c4f-e4ef-d61698f68539"
      },
      "outputs": [
        {
          "output_type": "stream",
          "name": "stdout",
          "text": [
            ".. _iris_dataset:\n",
            "\n",
            "Iris plants dataset\n",
            "--------------------\n",
            "\n",
            "**Data Set Characteristics:**\n",
            "\n",
            "    :Number of Instances: 150 (50 in each of three classes)\n",
            "    :Number of Attributes: 4 numeric, predictive attributes and the class\n",
            "    :Attribute Information:\n",
            "        - sepal length in cm\n",
            "        - sepal width in cm\n",
            "        - petal length in cm\n",
            "        - petal width in cm\n",
            "        - class:\n",
            "                - Iris-Setosa\n",
            "                - Iris-Versicolour\n",
            "                - Iris-Virginica\n",
            "                \n",
            "    :Summary Statistics:\n",
            "\n",
            "    ============== ==== ==== ======= ===== ====================\n",
            "                    Min  Max   Mean    SD   Class Correlation\n",
            "    ============== ==== ==== ======= ===== ====================\n",
            "    sepal length:   4.3  7.9   5.84   0.83    0.7826\n",
            "    sepal width:    2.0  4.4   3.05   0.43   -0.4194\n",
            "    petal length:   1.0  6.9   3.76   1.76    0.9490  (high!)\n",
            "    petal width:    0.1  2.5   1.20   0.76    0.9565  (high!)\n",
            "    ============== ==== ==== ======= ===== ====================\n",
            "\n",
            "    :Missing Attribute Values: None\n",
            "    :Class Distribution: 33.3% for each of 3 classes.\n",
            "    :Creator: R.A. Fisher\n",
            "    :Donor: Michael Marshall (MARSHALL%PLU@io.arc.nasa.gov)\n",
            "    :Date: July, 1988\n",
            "\n",
            "The famous Iris database, first used by Sir R.A. Fisher. The dataset is taken\n",
            "from Fisher's paper. Note that it's the same as in R, but not as in the UCI\n",
            "Machine Learning Repository, which has two wrong data points.\n",
            "\n",
            "This is perhaps the best known database to be found in the\n",
            "pattern recognition literature.  Fisher's paper is a classic in the field and\n",
            "is referenced frequently to this day.  (See Duda & Hart, for example.)  The\n",
            "data set contains 3 classes of 50 instances each, where each class refers to a\n",
            "type of iris plant.  One class is linearly separable from the other 2; the\n",
            "latter are NOT linearly separable from each other.\n",
            "\n",
            ".. topic:: References\n",
            "\n",
            "   - Fisher, R.A. \"The use of multiple measurements in taxonomic problems\"\n",
            "     Annual Eugenics, 7, Part II, 179-188 (1936); also in \"Contributions to\n",
            "     Mathematical Statistics\" (John Wiley, NY, 1950).\n",
            "   - Duda, R.O., & Hart, P.E. (1973) Pattern Classification and Scene Analysis.\n",
            "     (Q327.D83) John Wiley & Sons.  ISBN 0-471-22361-1.  See page 218.\n",
            "   - Dasarathy, B.V. (1980) \"Nosing Around the Neighborhood: A New System\n",
            "     Structure and Classification Rule for Recognition in Partially Exposed\n",
            "     Environments\".  IEEE Transactions on Pattern Analysis and Machine\n",
            "     Intelligence, Vol. PAMI-2, No. 1, 67-71.\n",
            "   - Gates, G.W. (1972) \"The Reduced Nearest Neighbor Rule\".  IEEE Transactions\n",
            "     on Information Theory, May 1972, 431-433.\n",
            "   - See also: 1988 MLC Proceedings, 54-64.  Cheeseman et al\"s AUTOCLASS II\n",
            "     conceptual clustering system finds 3 classes in the data.\n",
            "   - Many, many more ...\n"
          ]
        }
      ],
      "source": [
        "import numpy as np\n",
        "from sklearn.datasets import load_iris\n",
        "\n",
        "# Load the Iris dataset\n",
        "dataset = load_iris()\n",
        "\n",
        "# Print the dataset description\n",
        "print(dataset.DESCR)"
      ]
    },
    {
      "cell_type": "markdown",
      "metadata": {
        "id": "PCe1VNftevgE"
      },
      "source": [
        "Given below are the list of target values. These correspond to the house value derived considering all the 8 input features and are continuous values. We should use regression models to predict these values but we will start with a simple classification model for the sake of simplicity. We need to just round off the values to the nearest integer and use a classification model to predict the house value."
      ]
    },
    {
      "cell_type": "code",
      "execution_count": 10,
      "metadata": {
        "colab": {
          "base_uri": "https://localhost:8080/"
        },
        "id": "F8K0ggBOevgE",
        "outputId": "08c65859-9fc0-40a6-86cd-b4e09ee2789a"
      },
      "outputs": [
        {
          "output_type": "stream",
          "name": "stdout",
          "text": [
            "Orignal target values: [0 0 0 0 0 0 0 0 0 0 0 0 0 0 0 0 0 0 0 0 0 0 0 0 0 0 0 0 0 0 0 0 0 0 0 0 0\n",
            " 0 0 0 0 0 0 0 0 0 0 0 0 0 1 1 1 1 1 1 1 1 1 1 1 1 1 1 1 1 1 1 1 1 1 1 1 1\n",
            " 1 1 1 1 1 1 1 1 1 1 1 1 1 1 1 1 1 1 1 1 1 1 1 1 1 1 2 2 2 2 2 2 2 2 2 2 2\n",
            " 2 2 2 2 2 2 2 2 2 2 2 2 2 2 2 2 2 2 2 2 2 2 2 2 2 2 2 2 2 2 2 2 2 2 2 2 2\n",
            " 2 2]\n",
            "Target values after conversion: [0 0 0 0 0 0 0 0 0 0 0 0 0 0 0 0 0 0 0 0 0 0 0 0 0 0 0 0 0 0 0 0 0 0 0 0 0\n",
            " 0 0 0 0 0 0 0 0 0 0 0 0 0 1 1 1 1 1 1 1 1 1 1 1 1 1 1 1 1 1 1 1 1 1 1 1 1\n",
            " 1 1 1 1 1 1 1 1 1 1 1 1 1 1 1 1 1 1 1 1 1 1 1 1 1 1 2 2 2 2 2 2 2 2 2 2 2\n",
            " 2 2 2 2 2 2 2 2 2 2 2 2 2 2 2 2 2 2 2 2 2 2 2 2 2 2 2 2 2 2 2 2 2 2 2 2 2\n",
            " 2 2]\n",
            "Input variables shape: (150, 4)\n",
            "Output variables shape: (150,)\n"
          ]
        }
      ],
      "source": [
        "print(\"Orignal target values:\", dataset.target)\n",
        "\n",
        "dataset.target = dataset.target.astype(int)\n",
        "\n",
        "print(\"Target values after conversion:\", dataset.target)\n",
        "print(\"Input variables shape:\", dataset.data.shape)\n",
        "print(\"Output variables shape:\", dataset.target.shape)"
      ]
    },
    {
      "cell_type": "markdown",
      "metadata": {
        "id": "iNx4174W5xRg"
      },
      "source": [
        "The simplest model to use for classification is the K-Nearest Neighbors model. We will use this model to predict the house value with a K value of 1. We will also use the accuracy metric to evaluate the model."
      ]
    },
    {
      "cell_type": "code",
      "execution_count": 11,
      "metadata": {
        "id": "07zpydQj1hIQ"
      },
      "outputs": [],
      "source": [
        "def NN1(traindata, trainlabel, query):\n",
        "    \"\"\"\n",
        "    This function takes in the training data, training labels and a query point\n",
        "    and returns the predicted label for the query point using the nearest neighbour algorithm\n",
        "\n",
        "    traindata: numpy array of shape (n,d) where n is the number of samples and d is the number of features\n",
        "    trainlabel: numpy array of shape (n,) where n is the number of samples\n",
        "    query: numpy array of shape (d,) where d is the number of features\n",
        "\n",
        "    returns: the predicted label for the query point which is the label of the training data which is closest to the query point\n",
        "    \"\"\"\n",
        "    diff = (\n",
        "        traindata - query\n",
        "    )  # find the difference between features. Numpy automatically takes care of the size here\n",
        "    sq = diff * diff  # square the differences\n",
        "    dist = sq.sum(1)  # add up the squares\n",
        "    label = trainlabel[np.argmin(dist)]\n",
        "    return label\n",
        "\n",
        "\n",
        "def NN(traindata, trainlabel, testdata):\n",
        "    \"\"\"\n",
        "    This function takes in the training data, training labels and test data\n",
        "    and returns the predicted labels for the test data using the nearest neighbour algorithm\n",
        "\n",
        "    traindata: numpy array of shape (n,d) where n is the number of samples and d is the number of features\n",
        "    trainlabel: numpy array of shape (n,) where n is the number of samples\n",
        "    testdata: numpy array of shape (m,d) where m is the number of test samples and d is the number of features\n",
        "\n",
        "    returns: the predicted labels for the test data which is the label of the training data which is closest to each test point\n",
        "    \"\"\"\n",
        "    predlabel = np.array([NN1(traindata, trainlabel, i) for i in testdata])\n",
        "    return predlabel"
      ]
    },
    {
      "cell_type": "markdown",
      "metadata": {
        "id": "03JktkfIGaje"
      },
      "source": [
        "We will also define a 'random classifier', which randomly allots labels to each sample"
      ]
    },
    {
      "cell_type": "code",
      "execution_count": 12,
      "metadata": {
        "id": "fogWAtjyGhAH"
      },
      "outputs": [],
      "source": [
        "def RandomClassifier(traindata, trainlabel, testdata):\n",
        "    \"\"\"\n",
        "    This function takes in the training data, training labels and test data\n",
        "    and returns the predicted labels for the test data using the random classifier algorithm\n",
        "\n",
        "    In reality, we don't need these arguments but we are passing them to keep the function signature consistent with other classifiers\n",
        "\n",
        "    traindata: numpy array of shape (n,d) where n is the number of samples and d is the number of features\n",
        "    trainlabel: numpy array of shape (n,) where n is the number of samples\n",
        "    testdata: numpy array of shape (m,d) where m is the number of test samples and d is the number of features\n",
        "\n",
        "    returns: the predicted labels for the test data which is a random label from the training data\n",
        "    \"\"\"\n",
        "\n",
        "    classes = np.unique(trainlabel)\n",
        "    rints = rng.integers(low=0, high=len(classes), size=len(testdata))\n",
        "    predlabel = classes[rints]\n",
        "    return predlabel"
      ]
    },
    {
      "cell_type": "markdown",
      "metadata": {
        "id": "1Hjf1KHs7fU5"
      },
      "source": [
        "We need a metric to evaluate the performance of the model. Let us define a metric 'Accuracy' to see how good our learning algorithm is. Accuracy is the ratio of the number of correctly classified samples to the total number of samples. The higher the accuracy, the better the algorithm. We will use the accuracy metric to evaluate and compate the performance of the K-Nearest Neighbors model and the random classifier."
      ]
    },
    {
      "cell_type": "code",
      "execution_count": 13,
      "metadata": {
        "id": "ouuCqWU07bz-"
      },
      "outputs": [],
      "source": [
        "def Accuracy(gtlabel, predlabel):\n",
        "    \"\"\"\n",
        "    This function takes in the ground-truth labels and predicted labels\n",
        "    and returns the accuracy of the classifier\n",
        "\n",
        "    gtlabel: numpy array of shape (n,) where n is the number of samples\n",
        "    predlabel: numpy array of shape (n,) where n is the number of samples\n",
        "\n",
        "    returns: the accuracy of the classifier which is the number of correct predictions divided by the total number of predictions\n",
        "    \"\"\"\n",
        "    assert len(gtlabel) == len(\n",
        "        predlabel\n",
        "    ), \"Length of the ground-truth labels and predicted labels should be the same\"\n",
        "    correct = (\n",
        "        gtlabel == predlabel\n",
        "    ).sum()  # count the number of times the groundtruth label is equal to the predicted label.\n",
        "    return correct / len(gtlabel)"
      ]
    },
    {
      "cell_type": "markdown",
      "metadata": {
        "id": "4vJFwBFa9Klw"
      },
      "source": [
        "Let us make a function to split the dataset with the desired probability. We will use this function to split the dataset into training and testing sets. We will use the training set to train the model and the testing set to evaluate the model."
      ]
    },
    {
      "cell_type": "code",
      "execution_count": 14,
      "metadata": {
        "id": "Ko0VzpSM2Tdi"
      },
      "outputs": [],
      "source": [
        "def split(data, label, percent):\n",
        "    # generate a random number for each sample\n",
        "    rnd = rng.random(len(label))\n",
        "    split1 = rnd < percent\n",
        "    split2 = rnd >= percent\n",
        "\n",
        "    split1data = data[split1, :]\n",
        "    split1label = label[split1]\n",
        "    split2data = data[split2, :]\n",
        "    split2label = label[split2]\n",
        "    return split1data, split1label, split2data, split2label"
      ]
    },
    {
      "cell_type": "markdown",
      "metadata": {
        "id": "AcK3LEAJ_LGC"
      },
      "source": [
        "We will reserve 20% of our dataset as the test set. We will not change this portion throughout our experiments"
      ]
    },
    {
      "cell_type": "code",
      "execution_count": 15,
      "metadata": {
        "colab": {
          "base_uri": "https://localhost:8080/"
        },
        "id": "bBZkHBLJ1iU-",
        "outputId": "9b57f68c-9f8f-41b4-b02c-48b0731ea6cb"
      },
      "outputs": [
        {
          "output_type": "stream",
          "name": "stdout",
          "text": [
            "Number of test samples: 32\n",
            "Number of train samples: 118\n",
            "Percent of test data: 21.333333333333332 %\n"
          ]
        }
      ],
      "source": [
        "testdata, testlabel, alltraindata, alltrainlabel = split(\n",
        "    dataset.data, dataset.target, 20 / 100\n",
        ")\n",
        "print(\"Number of test samples:\", len(testlabel))\n",
        "print(\"Number of train samples:\", len(alltrainlabel))\n",
        "print(\"Percent of test data:\", len(testlabel) * 100 / len(dataset.target), \"%\")"
      ]
    },
    {
      "cell_type": "markdown",
      "metadata": {
        "id": "a6Ss0Z6IAGNV"
      },
      "source": [
        "## Experiments with splits\n",
        "\n",
        "Let us reserve some of our train data as a validation set"
      ]
    },
    {
      "cell_type": "code",
      "execution_count": 17,
      "metadata": {
        "id": "WFew2iry_7W7"
      },
      "outputs": [],
      "source": [
        "traindata, trainlabel, valdata, vallabel = split(\n",
        "    alltraindata, alltrainlabel, 75 / 100)"
      ]
    },
    {
      "cell_type": "markdown",
      "metadata": {
        "id": "60hiu4clFN1i"
      },
      "source": [
        "What is the accuracy of our classifiers on the train dataset?"
      ]
    },
    {
      "cell_type": "code",
      "execution_count": 18,
      "metadata": {
        "colab": {
          "base_uri": "https://localhost:8080/"
        },
        "id": "DBlZDTHUFTZx",
        "outputId": "1b91c54c-12c7-402e-8419-461bbc672def"
      },
      "outputs": [
        {
          "output_type": "stream",
          "name": "stdout",
          "text": [
            "Training accuracy using nearest neighbour algorithm: 100.0 %\n",
            "Training accuracy using random classifier:  29.411764705882355 %\n"
          ]
        }
      ],
      "source": [
        "trainpred = NN(traindata, trainlabel, traindata)\n",
        "trainAccuracy = Accuracy(trainlabel, trainpred)\n",
        "print(\"Training accuracy using nearest neighbour algorithm:\", trainAccuracy*100, \"%\")\n",
        "\n",
        "trainpred = RandomClassifier(traindata, trainlabel, traindata)\n",
        "trainAccuracy = Accuracy(trainlabel, trainpred)\n",
        "print(\"Training accuracy using random classifier: \", trainAccuracy*100, \"%\")"
      ]
    },
    {
      "cell_type": "markdown",
      "metadata": {
        "id": "7h08-9gJDtSy"
      },
      "source": [
        "For nearest neighbour, the train accuracy is always 1. The accuracy of the random classifier is close to 1/(number of classes) which is 0.1666 in our case. This is because the random classifier randomly assigns a label to each sample and the probability of assigning the correct label is 1/(number of classes). Let us predict the labels for our validation set and get the accuracy. This accuracy is a good estimate of the accuracy of our model on unseen data."
      ]
    },
    {
      "cell_type": "code",
      "execution_count": 19,
      "metadata": {
        "colab": {
          "base_uri": "https://localhost:8080/"
        },
        "id": "4h7bXoW_2H3v",
        "outputId": "052f050e-3f94-4734-b29a-a425ddef08d7"
      },
      "outputs": [
        {
          "output_type": "stream",
          "name": "stdout",
          "text": [
            "Validation accuracy using nearest neighbour algorithm: 93.93939393939394 %\n",
            "Validation accuracy using random classifier: 24.242424242424242 %\n"
          ]
        }
      ],
      "source": [
        "valpred = NN(traindata, trainlabel, valdata)\n",
        "valAccuracy = Accuracy(vallabel, valpred)\n",
        "print(\"Validation accuracy using nearest neighbour algorithm:\", valAccuracy*100, \"%\")\n",
        "\n",
        "\n",
        "valpred = RandomClassifier(traindata, trainlabel, valdata)\n",
        "valAccuracy = Accuracy(vallabel, valpred)\n",
        "print(\"Validation accuracy using random classifier:\", valAccuracy*100, \"%\")"
      ]
    },
    {
      "cell_type": "markdown",
      "metadata": {
        "id": "py9bLguFEjfg"
      },
      "source": [
        "Validation accuracy of nearest neighbour is considerably less than its train accuracy while the validation accuracy of random classifier is the same. However, the validation accuracy of nearest neighbour is twice that of the random classifier. Now let us try another random split and check the validation accuracy. We will see that the validation accuracy changes with the split. This is because the validation set is small and the accuracy is highly dependent on the samples in the validation set. We can get a better estimate of the accuracy by using cross-validation."
      ]
    },
    {
      "cell_type": "code",
      "execution_count": 20,
      "metadata": {
        "colab": {
          "base_uri": "https://localhost:8080/"
        },
        "id": "ujm3cyYzEntE",
        "outputId": "32dab4d4-839c-4dc8-eba9-b8a8c8a66dff"
      },
      "outputs": [
        {
          "output_type": "stream",
          "name": "stdout",
          "text": [
            "Validation accuracy using nearest neighbour algorithm: 94.44444444444444 %\n"
          ]
        }
      ],
      "source": [
        "traindata, trainlabel, valdata, vallabel = split(\n",
        "    alltraindata, alltrainlabel, 75 / 100)\n",
        "valpred = NN(traindata, trainlabel, valdata)\n",
        "valAccuracy = Accuracy(vallabel, valpred)\n",
        "print(\"Validation accuracy using nearest neighbour algorithm:\", valAccuracy*100, \"%\")"
      ]
    },
    {
      "cell_type": "markdown",
      "metadata": {
        "id": "oSOx7U83EKie"
      },
      "source": [
        "You can run the above cell multiple times to try with different random splits.\n",
        "We notice that the accuracy is different for each run, but close together.\n",
        "\n",
        "Now let us compare it with the accuracy we get on the test dataset."
      ]
    },
    {
      "cell_type": "code",
      "execution_count": 21,
      "metadata": {
        "colab": {
          "base_uri": "https://localhost:8080/"
        },
        "id": "PNEZ5ToYBEDW",
        "outputId": "ff7ad2e8-49e8-44ac-e45d-9e8acaf5a1c7"
      },
      "outputs": [
        {
          "output_type": "stream",
          "name": "stdout",
          "text": [
            "Test accuracy: 96.875 %\n"
          ]
        }
      ],
      "source": [
        "testpred = NN(alltraindata, alltrainlabel, testdata)\n",
        "testAccuracy = Accuracy(testlabel, testpred)\n",
        "\n",
        "print(\"Test accuracy:\", testAccuracy*100, \"%\")"
      ]
    },
    {
      "cell_type": "markdown",
      "metadata": {
        "id": "w3dGD531K3gH"
      },
      "source": [
        "### Try it out for yourself and answer:\n",
        "1. How is the accuracy of the validation set affected if we increase the percentage of validation set? What happens when we reduce it?\n",
        "2. How does the size of the train and validation set affect how well we can predict the accuracy on the test set using the validation set?\n",
        "3. What do you think is a good percentage to reserve for the validation set so that thest two factors are balanced?\n",
        "\n",
        "Answer for both nearest neighbour and random classifier. You can note down the values for your experiments and plot a graph using  <a href=https://matplotlib.org/stable/gallery/lines_bars_and_markers/step_demo.html#sphx-glr-gallery-lines-bars-and-markers-step-demo-py>plt.plot<href>. Check also for extreme values for splits, like 99.9% or 0.1%"
      ]
    },
    {
      "cell_type": "markdown",
      "source": [
        "Answers:\n",
        "1. If we increase the validation set the model's performance will increase as it generalizes the new data(unseen data). But as we increase validation data the training data decreases which can lead to poorer training of the model and as a result it may not give accurate results.\n",
        "Decreasing the validation set size can result in better training set performance (higher training accuracy), but at the risk of less reliable validation accuracy and potentially overfitting.\n",
        "\n",
        "2. The model is trained using the training set, where it learns patterns and relationships in the data. The trained model is then used to make predictions on the validation set, which consists of data that the model has not seen during training.The predictions made by the model on the validation set are compared against the actual known outcomes (ground truth). Accuracy is calculated as the percentage of correct predictions over the total number of predictions made.The accuracy obtained on the validation set serves as an estimate of how well the model is expected to perform on new, unseen data (including the test set). It provides insights into the model's ability to generalize beyond the training data.\n",
        "The size of the train and validation sets directly impacts the reliability of predicting accuracy on the test set using the validation set. A larger training set allows the model to learn more complex patterns, potentially improving its performance on both the training and validation sets. However, a smaller validation set might lead to less reliable estimates of generalization to unseen data. Conversely, a larger validation set provides a more robust assessment of model performance but reduces the amount of data available for training.\n",
        "\n",
        "3. To split the dataset into 70-80% for training and 20-30% for validation is good percentage so that the two factors can be balanced"
      ],
      "metadata": {
        "id": "si5uy8a9Pnm9"
      }
    },
    {
      "cell_type": "markdown",
      "metadata": {
        "id": "M9zvdYY6evgI"
      },
      "source": [
        "> Exercise: Try to implement a 3 nearest neighbour classifier and compare the accuracy of the 1 nearest neighbour classifier and the 3 nearest neighbour classifier on the test dataset. You can use the KNeighborsClassifier class from the scikit-learn library to implement the K-Nearest Neighbors model. You can set the number of neighbors using the n_neighbors parameter. You can also use the accuracy_score function from the scikit-learn library to calculate the accuracy of the model."
      ]
    },
    {
      "cell_type": "code",
      "source": [
        "from sklearn.model_selection import train_test_split\n",
        "from sklearn.neighbors import KNeighborsClassifier\n",
        "from sklearn import datasets\n",
        "from sklearn.metrics import classification_report\n",
        "\n",
        "# Load the iris dataset\n",
        "iris = datasets.load_iris()\n",
        "\n",
        "# Split the data into training and testing sets\n",
        "x_train, x_test, y_train, y_test = train_test_split(iris.data, iris.target, test_size=0.1)\n",
        "\n",
        "print(\"Size of training data and its label\", x_train.shape, y_train.shape)\n",
        "print(\"Size of testing data and its label\", x_test.shape, y_test.shape)\n",
        "\n",
        "# Print the labels and their corresponding target names\n",
        "for i in range(len(iris.target_names)):\n",
        "    print(\"Label\", i, \"-\", str(iris.target_names[i]))\n",
        "\n",
        "# Create and train the KNN classifier\n",
        "classifier = KNeighborsClassifier(n_neighbors=1)\n",
        "classifier.fit(x_train, y_train)\n",
        "\n",
        "# Predict the labels for the test set\n",
        "y_pred = classifier.predict(x_test)\n",
        "\n",
        "print(\"Results of classification using KNN with n=1\")\n",
        "for r in range(len(x_test)):  # Change i to r to match the loop variable\n",
        "    print(\"Sample:\", str(x_test[r]), \"Actual label:\", str(y_test[r]), \"Predicted label\", str(y_pred[r]))\n",
        "\n",
        "# Calculate and print the classification accuracy\n",
        "print(\"Classification Accuracy:\", classifier.score(x_test, y_test))\n",
        "\n",
        "# Print the accuracy metrics\n",
        "print(\"Accuracy metrics\")\n",
        "print(classification_report(y_test, y_pred))\n",
        "\n",
        "\n",
        "# Create and train the KNN classifier\n",
        "classifier = KNeighborsClassifier(n_neighbors=3)\n",
        "classifier.fit(x_train, y_train)\n",
        "\n",
        "# Predict the labels for the test set\n",
        "y_pred = classifier.predict(x_test)\n",
        "\n",
        "print(\"Results of classification using KNN with n=3\")\n",
        "for r in range(len(x_test)):  # Change i to r to match the loop variable\n",
        "    print(\"Sample:\", str(x_test[r]), \"Actual label:\", str(y_test[r]), \"Predicted label\", str(y_pred[r]))\n",
        "\n",
        "# Calculate and print the classification accuracy\n",
        "print(\"Classification Accuracy:\", classifier.score(x_test, y_test))\n",
        "\n",
        "# Print the accuracy metrics\n",
        "print(\"Accuracy metrics\")\n",
        "print(classification_report(y_test, y_pred))"
      ],
      "metadata": {
        "id": "uSwAs3-9Kn-W",
        "outputId": "277bf3fb-fddc-445d-febc-d08ef2ad19c3",
        "colab": {
          "base_uri": "https://localhost:8080/"
        }
      },
      "execution_count": 6,
      "outputs": [
        {
          "output_type": "stream",
          "name": "stdout",
          "text": [
            "Size of training data and its label (135, 4) (135,)\n",
            "Size of testing data and its label (15, 4) (15,)\n",
            "Label 0 - setosa\n",
            "Label 1 - versicolor\n",
            "Label 2 - virginica\n",
            "Results of classification using KNN with n=1\n",
            "Sample: [7.7 3.  6.1 2.3] Actual label: 2 Predicted label 2\n",
            "Sample: [5.  2.  3.5 1. ] Actual label: 1 Predicted label 1\n",
            "Sample: [5.7 4.4 1.5 0.4] Actual label: 0 Predicted label 0\n",
            "Sample: [5.7 2.5 5.  2. ] Actual label: 2 Predicted label 2\n",
            "Sample: [5.5 4.2 1.4 0.2] Actual label: 0 Predicted label 0\n",
            "Sample: [6.2 2.8 4.8 1.8] Actual label: 2 Predicted label 2\n",
            "Sample: [5.1 3.7 1.5 0.4] Actual label: 0 Predicted label 0\n",
            "Sample: [6.4 2.8 5.6 2.1] Actual label: 2 Predicted label 2\n",
            "Sample: [7.3 2.9 6.3 1.8] Actual label: 2 Predicted label 2\n",
            "Sample: [6.5 3.  5.8 2.2] Actual label: 2 Predicted label 2\n",
            "Sample: [5.8 2.7 5.1 1.9] Actual label: 2 Predicted label 2\n",
            "Sample: [5.3 3.7 1.5 0.2] Actual label: 0 Predicted label 0\n",
            "Sample: [5.8 2.6 4.  1.2] Actual label: 1 Predicted label 1\n",
            "Sample: [7.1 3.  5.9 2.1] Actual label: 2 Predicted label 2\n",
            "Sample: [7.4 2.8 6.1 1.9] Actual label: 2 Predicted label 2\n",
            "Classification Accuracy: 1.0\n",
            "Accuracy metrics\n",
            "              precision    recall  f1-score   support\n",
            "\n",
            "           0       1.00      1.00      1.00         4\n",
            "           1       1.00      1.00      1.00         2\n",
            "           2       1.00      1.00      1.00         9\n",
            "\n",
            "    accuracy                           1.00        15\n",
            "   macro avg       1.00      1.00      1.00        15\n",
            "weighted avg       1.00      1.00      1.00        15\n",
            "\n",
            "Results of classification using KNN with n=3\n",
            "Sample: [7.7 3.  6.1 2.3] Actual label: 2 Predicted label 2\n",
            "Sample: [5.  2.  3.5 1. ] Actual label: 1 Predicted label 1\n",
            "Sample: [5.7 4.4 1.5 0.4] Actual label: 0 Predicted label 0\n",
            "Sample: [5.7 2.5 5.  2. ] Actual label: 2 Predicted label 2\n",
            "Sample: [5.5 4.2 1.4 0.2] Actual label: 0 Predicted label 0\n",
            "Sample: [6.2 2.8 4.8 1.8] Actual label: 2 Predicted label 2\n",
            "Sample: [5.1 3.7 1.5 0.4] Actual label: 0 Predicted label 0\n",
            "Sample: [6.4 2.8 5.6 2.1] Actual label: 2 Predicted label 2\n",
            "Sample: [7.3 2.9 6.3 1.8] Actual label: 2 Predicted label 2\n",
            "Sample: [6.5 3.  5.8 2.2] Actual label: 2 Predicted label 2\n",
            "Sample: [5.8 2.7 5.1 1.9] Actual label: 2 Predicted label 2\n",
            "Sample: [5.3 3.7 1.5 0.2] Actual label: 0 Predicted label 0\n",
            "Sample: [5.8 2.6 4.  1.2] Actual label: 1 Predicted label 1\n",
            "Sample: [7.1 3.  5.9 2.1] Actual label: 2 Predicted label 2\n",
            "Sample: [7.4 2.8 6.1 1.9] Actual label: 2 Predicted label 2\n",
            "Classification Accuracy: 1.0\n",
            "Accuracy metrics\n",
            "              precision    recall  f1-score   support\n",
            "\n",
            "           0       1.00      1.00      1.00         4\n",
            "           1       1.00      1.00      1.00         2\n",
            "           2       1.00      1.00      1.00         9\n",
            "\n",
            "    accuracy                           1.00        15\n",
            "   macro avg       1.00      1.00      1.00        15\n",
            "weighted avg       1.00      1.00      1.00        15\n",
            "\n"
          ]
        }
      ]
    },
    {
      "cell_type": "markdown",
      "metadata": {
        "id": "PnYvkAZLQY7h"
      },
      "source": [
        "## Multiple Splits\n",
        "\n",
        "One way to get more accurate estimates for the test accuracy is by using <b>cross-validation</b>. Here, we will try a simple version, where we do multiple train/val splits and take the average of validation accuracies as the test accuracy estimation. Here is a function for doing this. Note that this function will take a long time to execute. You can reduce the number of splits to make it faster."
      ]
    },
    {
      "cell_type": "code",
      "execution_count": 22,
      "metadata": {
        "id": "E4nGCUQXBTzo"
      },
      "outputs": [],
      "source": [
        "def AverageAccuracy(alldata, alllabel, splitpercent, iterations, classifier=NN):\n",
        "    \"\"\"\n",
        "    This function takes in the data, labels, split percentage, number of iterations and classifier function\n",
        "    and returns the average accuracy of the classifier\n",
        "\n",
        "    alldata: numpy array of shape (n,d) where n is the number of samples and d is the number of features\n",
        "    alllabel: numpy array of shape (n,) where n is the number of samples\n",
        "    splitpercent: float which is the percentage of data to be used for training\n",
        "    iterations: int which is the number of iterations to run the classifier\n",
        "    classifier: function which is the classifier function to be used\n",
        "\n",
        "    returns: the average accuracy of the classifier\n",
        "    \"\"\"\n",
        "    accuracy = 0\n",
        "    for ii in range(iterations):\n",
        "        traindata, trainlabel, valdata, vallabel = split(\n",
        "            alldata, alllabel, splitpercent\n",
        "        )\n",
        "        valpred = classifier(traindata, trainlabel, valdata)\n",
        "        accuracy += Accuracy(vallabel, valpred)\n",
        "    return accuracy / iterations  # average of all accuracies"
      ]
    },
    {
      "cell_type": "code",
      "execution_count": 23,
      "metadata": {
        "colab": {
          "base_uri": "https://localhost:8080/"
        },
        "id": "H3qtNar7Bbik",
        "outputId": "841a1fed-5c27-4672-e630-608c59a2d488"
      },
      "outputs": [
        {
          "output_type": "stream",
          "name": "stdout",
          "text": [
            "Average validation accuracy: 96.53592118665648 %\n",
            "Test accuracy: 96.875 %\n"
          ]
        }
      ],
      "source": [
        "avg_acc = AverageAccuracy(alltraindata, alltrainlabel, 75 / 100, 10, classifier=NN)\n",
        "print(\"Average validation accuracy:\", avg_acc*100, \"%\")\n",
        "testpred = NN(alltraindata, alltrainlabel, testdata)\n",
        "\n",
        "print(\"Test accuracy:\", Accuracy(testlabel, testpred)*100, \"%\")"
      ]
    },
    {
      "cell_type": "markdown",
      "metadata": {
        "id": "33GIn4x5VH-d"
      },
      "source": [
        "This is a very simple way of doing cross-validation. There are many well-known algorithms for cross-validation, like k-fold cross-validation, leave-one-out etc. This will be covered in detail in a later module. For more information about cross-validation, check <a href=https://en.wikipedia.org/wiki/Cross-validation_(statistics)>Cross-validatioin (Wikipedia)</a>\n",
        "\n",
        "### Questions\n",
        "1. Does averaging the validation accuracy across multiple splits give more consistent results?\n",
        "2. Does it give more accurate estimate of test accuracy?\n",
        "3. What is the effect of the number of iterations on the estimate? Do we get a better estimate with higher iterations?\n",
        "4. Consider the results you got for the previous questions. Can we deal with a very small train dataset or validation dataset by increasing the iterations?\n"
      ]
    },
    {
      "cell_type": "markdown",
      "source": [
        "Answers:\n",
        "1. Yes, averaging the validation accuracy across multiple splits generally provides more consistent and reliable results. Single splits of data can be highly variable depending on how the data is divided. Some splits might by chance have more representative training and validation sets, while others might have outliers or non-representative samples. Averaging across multiple splits reduces the impact of any one split that might be uncharacteristically good or bad.  Averaging over multiple splits, particularly when using techniques like k-fold cross-validation, ensures that every data point is used for both training and validation. This helps in detecting and mitigating overfitting, as the model is exposed to diverse training sets and validation sets.\n",
        "\n",
        " 2. Yes, averaging validation accuracy across multiple splits generally provides a more accurate estimate of the test accuracy.  When you average the results over multiple splits, the final performance metric better reflects the model's ability to generalize to unseen data. This is because the model has been evaluated on different portions of the data multiple times, providing a comprehensive view of its performance. A model that performs well across multiple splits is less likely to be overfitted to any particular subset of data, leading to a more realistic estimate of how it will perform on new, unseen data.\n",
        "\n",
        " 3. Increasing the number of iterations typically leads to a better and more reliable estimate of the test accuracy. More iterations mean that the performance estimate is based on a larger sample of train-validation splits. This helps to average out any anomalies or outliers that might occur in a single or small number of splits, leading to a more stable and less variable estimate. With more iterations, the model is evaluated on a greater variety of data points in different configurations, which better represents the underlying data distribution. This ensures that the performance estimate is not biased by any particular subset of the data.\n",
        "\n",
        " 4. For small datasets, the variance in performance estimates can be high due to the limited number of samples. By increasing the number of iterations, such as through repeated k-fold cross-validation or Monte Carlo cross-validation, you can average out the performance metrics over many different splits, leading to a more stable and reliable estimate.Increasing the number of iterations can help deal with very small training or validation datasets to some extent, but there are inherent limitations and challenges that come with small datasets."
      ],
      "metadata": {
        "id": "ibdL0PqNEMX5"
      }
    },
    {
      "cell_type": "markdown",
      "metadata": {
        "id": "z-SBxy1qevgJ"
      },
      "source": [
        "> Exercise: How does the accuracy of the 3 nearest neighbour classifier change with the number of splits? How is it affected by the split size? Compare the results with the 1 nearest neighbour classifier."
      ]
    },
    {
      "cell_type": "markdown",
      "source": [
        "As the number of splits increases, both classifiers tend to show more stable (lower standard deviation) and slightly higher mean accuracy. This is expected as more splits provide a better estimate of the model's performance. The 3-NN classifier generally shows higher mean accuracy and lower variance compared to the 1-NN classifier. This is because 3-NN averages over three neighbors, making it less sensitive to noise and outliers.\n"
      ],
      "metadata": {
        "id": "FQf1CArRJPGO"
      }
    },
    {
      "cell_type": "code",
      "source": [
        "from sklearn.model_selection import train_test_split\n",
        "from sklearn.neighbors import KNeighborsClassifier\n",
        "from sklearn import datasets\n",
        "from sklearn.metrics import classification_report, accuracy_score\n",
        "import numpy as np\n",
        "\n",
        "# Load the iris dataset\n",
        "iris = datasets.load_breast_cancer()\n",
        "X, y = iris.data, iris.target\n",
        "\n",
        "# Define split sizes to evaluate\n",
        "split_sizes = [0.1, 0.2, 0.3, 0.4, 0.5]\n",
        "\n",
        "# Store results\n",
        "results = {\n",
        "    'split_size': [],\n",
        "    'knn1_accuracy': [],\n",
        "    'knn3_accuracy': []\n",
        "}\n",
        "\n",
        "for split_size in split_sizes:\n",
        "    knn1_accuracies = []\n",
        "    knn3_accuracies = []\n",
        "\n",
        "    # Perform multiple splits for each split size\n",
        "    for _ in range(10):  # 10 splits for robustness\n",
        "        X_train, X_test, y_train, y_test = train_test_split(X, y, test_size=split_size)\n",
        "\n",
        "        # KNN with n_neighbors=1\n",
        "        knn1 = KNeighborsClassifier(n_neighbors=1)\n",
        "        knn1.fit(X_train, y_train)\n",
        "        y_pred_knn1 = knn1.predict(X_test)\n",
        "        knn1_accuracy = accuracy_score(y_test, y_pred_knn1)\n",
        "        knn1_accuracies.append(knn1_accuracy)\n",
        "\n",
        "        # KNN with n_neighbors=3\n",
        "        knn3 = KNeighborsClassifier(n_neighbors=3)\n",
        "        knn3.fit(X_train, y_train)\n",
        "        y_pred_knn3 = knn3.predict(X_test)\n",
        "        knn3_accuracy = accuracy_score(y_test, y_pred_knn3)\n",
        "        knn3_accuracies.append(knn3_accuracy)\n",
        "\n",
        "    # Store average accuracies for this split size\n",
        "    results['split_size'].append(split_size)\n",
        "    results['knn1_accuracy'].append(np.mean(knn1_accuracies))\n",
        "    results['knn3_accuracy'].append(np.mean(knn3_accuracies))\n",
        "\n",
        "# Print results\n",
        "for i in range(len(split_sizes)):\n",
        "    print(f\"Split size: {results['split_size'][i]}\")\n",
        "    print(f\"  1-NN Accuracy: {results['knn1_accuracy'][i]:.2f}\")\n",
        "    print(f\"  3-NN Accuracy: {results['knn3_accuracy'][i]:.2f}\")\n",
        "\n",
        "# Plot the results for better visualization\n",
        "import matplotlib.pyplot as plt\n",
        "\n",
        "plt.plot(results['split_size'], results['knn1_accuracy'], label='1-NN Accuracy', marker='o')\n",
        "plt.plot(results['split_size'], results['knn3_accuracy'], label='3-NN Accuracy', marker='o')\n",
        "plt.xlabel('Test Split Size')\n",
        "plt.ylabel('Accuracy')\n",
        "plt.title('Accuracy of KNN Classifiers with Different Split Sizes')\n",
        "plt.legend()\n",
        "plt.grid(True)\n",
        "plt.show()"
      ],
      "metadata": {
        "colab": {
          "base_uri": "https://localhost:8080/",
          "height": 732
        },
        "id": "otZAEJheZff-",
        "outputId": "a1ff56fb-be8a-4e1c-8879-a1f6687a5a13"
      },
      "execution_count": 28,
      "outputs": [
        {
          "output_type": "stream",
          "name": "stdout",
          "text": [
            "Split size: 0.1\n",
            "  1-NN Accuracy: 0.92\n",
            "  3-NN Accuracy: 0.93\n",
            "Split size: 0.2\n",
            "  1-NN Accuracy: 0.91\n",
            "  3-NN Accuracy: 0.91\n",
            "Split size: 0.3\n",
            "  1-NN Accuracy: 0.91\n",
            "  3-NN Accuracy: 0.92\n",
            "Split size: 0.4\n",
            "  1-NN Accuracy: 0.91\n",
            "  3-NN Accuracy: 0.93\n",
            "Split size: 0.5\n",
            "  1-NN Accuracy: 0.91\n",
            "  3-NN Accuracy: 0.92\n"
          ]
        },
        {
          "output_type": "display_data",
          "data": {
            "text/plain": [
              "<Figure size 640x480 with 1 Axes>"
            ],
            "image/png": "[encoded data removed]"
          },
          "metadata": {}
        }
      ]
    }
  ],
  "metadata": {
    "colab": {
      "provenance": [],
      "include_colab_link": true
    },
    "kernelspec": {
      "display_name": "Python 3",
      "name": "python3"
    },
    "language_info": {
      "codemirror_mode": {
        "name": "ipython",
        "version": 3
      },
      "file_extension": ".py",
      "mimetype": "text/x-python",
      "name": "python",
      "nbconvert_exporter": "python",
      "pygments_lexer": "ipython3",
      "version": "3.10.10"
    }
  },
  "nbformat": 4,
  "nbformat_minor": 0
}